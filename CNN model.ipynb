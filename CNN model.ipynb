{
  "nbformat": 4,
  "nbformat_minor": 0,
  "metadata": {
    "colab": {
      "name": "CNN_final.ipynb",
      "provenance": [],
      "collapsed_sections": []
    },
    "kernelspec": {
      "name": "python3",
      "display_name": "Python 3"
    },
    "language_info": {
      "name": "python"
    },
    "accelerator": "GPU"
  },
  "cells": [
    {
      "cell_type": "markdown",
      "source": [
        "**Assignments 2&3 - Deep Learning**\n",
        "\n",
        "Antonakaki Eleni\n",
        "\n",
        "Lt1200002\n",
        "\n",
        "Master Language Technology\n",
        "\n",
        "CONVOLUTIONAL NEURAL NETWORK MODEL"
      ],
      "metadata": {
        "id": "oSubBfK_q3m3"
      }
    },
    {
      "cell_type": "code",
      "source": [
        "import numpy as np \n",
        "import pandas as pd \n",
        "import os\n",
        "import matplotlib.pyplot as plt\n",
        "import glob\n",
        "import seaborn as sns\n",
        "from tqdm import tqdm\n",
        "import spacy\n",
        "import string\n",
        "import re\n",
        "import nltk\n",
        "import torch\n",
        "from sklearn.model_selection import train_test_split\n",
        "import torch.optim as optim\n",
        "import torch.nn as nn\n",
        "import torch.nn.functional as F\n",
        "from nltk.corpus import stopwords\n",
        "from sklearn.preprocessing import LabelEncoder\n",
        "from nltk.stem import PorterStemmer\n",
        "from torch import optim\n",
        "import torchtext \n",
        "import pickle\n",
        "import random\n",
        "from sklearn.metrics import classification_report\n",
        "from sklearn.metrics import confusion_matrix\n",
        "from nltk.corpus import stopwords\n",
        "from wordcloud import WordCloud"
      ],
      "metadata": {
        "id": "8QZ7B_h0rEl8"
      },
      "execution_count": 1,
      "outputs": []
    },
    {
      "cell_type": "code",
      "execution_count": 2,
      "metadata": {
        "id": "iS_iS6q4_sCc"
      },
      "outputs": [],
      "source": [
        "def set_seed(seed):\n",
        "    '''Sets the seed of the entire notebook so results are the same every time we run.\n",
        "    This is for REPRODUCIBILITY.'''\n",
        "    np.random.seed(seed)\n",
        "    random.seed(seed)\n",
        "    torch.manual_seed(seed)\n",
        "    torch.cuda.manual_seed(seed)\n",
        "    # When running on the CuDNN backend, two further options must be set\n",
        "    torch.backends.cudnn.deterministic = True\n",
        "    # Set a fixed value for the hash seed\n",
        "    os.environ['PYTHONHASHSEED'] = str(seed)\n",
        "    \n",
        "set_seed(25)"
      ]
    },
    {
      "cell_type": "code",
      "source": [
        "nltk.download('stopwords')\n",
        "stopwords = set(stopwords.words(\"english\"))\n",
        "nltk.download('punkt')"
      ],
      "metadata": {
        "colab": {
          "base_uri": "https://localhost:8080/"
        },
        "id": "Yr5sXT18sFbF",
        "outputId": "8146b59c-ae09-48b1-cb2b-5bb3cbf1dc0d"
      },
      "execution_count": 3,
      "outputs": [
        {
          "output_type": "stream",
          "name": "stdout",
          "text": [
            "[nltk_data] Downloading package stopwords to /root/nltk_data...\n",
            "[nltk_data]   Package stopwords is already up-to-date!\n",
            "[nltk_data] Downloading package punkt to /root/nltk_data...\n",
            "[nltk_data]   Package punkt is already up-to-date!\n"
          ]
        },
        {
          "output_type": "execute_result",
          "data": {
            "text/plain": [
              "True"
            ]
          },
          "metadata": {},
          "execution_count": 3
        }
      ]
    },
    {
      "cell_type": "code",
      "source": [
        "CUDA_LAUNCH_BLOCKING = \"1\"\n",
        "cuda = True\n",
        "os.system('CUDA_LAUNCH_BLOCKING=1')\n",
        "device = torch.device(\"cuda\" if (\n",
        "    torch.cuda.is_available() and cuda) else \"cpu\")\n",
        "\n",
        "torch.set_default_tensor_type(\"torch.FloatTensor\")\n",
        "if device.type == \"cuda\":\n",
        "    torch.set_default_tensor_type(\"torch.cuda.FloatTensor\")\n",
        "print (device)"
      ],
      "metadata": {
        "colab": {
          "base_uri": "https://localhost:8080/"
        },
        "id": "RHOX3F-gsMKT",
        "outputId": "a7247ecd-f3e9-45ef-92b2-44aeaf4aba7b"
      },
      "execution_count": 4,
      "outputs": [
        {
          "output_type": "stream",
          "name": "stdout",
          "text": [
            "cuda\n"
          ]
        }
      ]
    },
    {
      "cell_type": "code",
      "source": [
        "#loading the data\n",
        "reviews = pd.read_csv(\"IMDB_reviews.csv\")\n",
        "print(reviews.shape)\n",
        "\n",
        "reviews.head()"
      ],
      "metadata": {
        "colab": {
          "base_uri": "https://localhost:8080/",
          "height": 224
        },
        "id": "FyTLr_7LsgAE",
        "outputId": "0d33db41-0313-4730-fcd3-b607ac4c1a80"
      },
      "execution_count": 5,
      "outputs": [
        {
          "output_type": "stream",
          "name": "stdout",
          "text": [
            "(50000, 2)\n"
          ]
        },
        {
          "output_type": "execute_result",
          "data": {
            "text/html": [
              "\n",
              "  <div id=\"df-dc3efe7c-0cfd-4438-a1df-683f820cca7c\">\n",
              "    <div class=\"colab-df-container\">\n",
              "      <div>\n",
              "<style scoped>\n",
              "    .dataframe tbody tr th:only-of-type {\n",
              "        vertical-align: middle;\n",
              "    }\n",
              "\n",
              "    .dataframe tbody tr th {\n",
              "        vertical-align: top;\n",
              "    }\n",
              "\n",
              "    .dataframe thead th {\n",
              "        text-align: right;\n",
              "    }\n",
              "</style>\n",
              "<table border=\"1\" class=\"dataframe\">\n",
              "  <thead>\n",
              "    <tr style=\"text-align: right;\">\n",
              "      <th></th>\n",
              "      <th>review</th>\n",
              "      <th>sentiment</th>\n",
              "    </tr>\n",
              "  </thead>\n",
              "  <tbody>\n",
              "    <tr>\n",
              "      <th>0</th>\n",
              "      <td>Someone(or, something thing..)is leaving punct...</td>\n",
              "      <td>positive</td>\n",
              "    </tr>\n",
              "    <tr>\n",
              "      <th>1</th>\n",
              "      <td>Beginning with the poster (featuring only Morg...</td>\n",
              "      <td>negative</td>\n",
              "    </tr>\n",
              "    <tr>\n",
              "      <th>2</th>\n",
              "      <td>This movie is one of the most awful movies eve...</td>\n",
              "      <td>negative</td>\n",
              "    </tr>\n",
              "    <tr>\n",
              "      <th>3</th>\n",
              "      <td>Generally political messages are done on telev...</td>\n",
              "      <td>negative</td>\n",
              "    </tr>\n",
              "    <tr>\n",
              "      <th>4</th>\n",
              "      <td>I'm surprised at the comments from posters sta...</td>\n",
              "      <td>positive</td>\n",
              "    </tr>\n",
              "  </tbody>\n",
              "</table>\n",
              "</div>\n",
              "      <button class=\"colab-df-convert\" onclick=\"convertToInteractive('df-dc3efe7c-0cfd-4438-a1df-683f820cca7c')\"\n",
              "              title=\"Convert this dataframe to an interactive table.\"\n",
              "              style=\"display:none;\">\n",
              "        \n",
              "  <svg xmlns=\"http://www.w3.org/2000/svg\" height=\"24px\"viewBox=\"0 0 24 24\"\n",
              "       width=\"24px\">\n",
              "    <path d=\"M0 0h24v24H0V0z\" fill=\"none\"/>\n",
              "    <path d=\"M18.56 5.44l.94 2.06.94-2.06 2.06-.94-2.06-.94-.94-2.06-.94 2.06-2.06.94zm-11 1L8.5 8.5l.94-2.06 2.06-.94-2.06-.94L8.5 2.5l-.94 2.06-2.06.94zm10 10l.94 2.06.94-2.06 2.06-.94-2.06-.94-.94-2.06-.94 2.06-2.06.94z\"/><path d=\"M17.41 7.96l-1.37-1.37c-.4-.4-.92-.59-1.43-.59-.52 0-1.04.2-1.43.59L10.3 9.45l-7.72 7.72c-.78.78-.78 2.05 0 2.83L4 21.41c.39.39.9.59 1.41.59.51 0 1.02-.2 1.41-.59l7.78-7.78 2.81-2.81c.8-.78.8-2.07 0-2.86zM5.41 20L4 18.59l7.72-7.72 1.47 1.35L5.41 20z\"/>\n",
              "  </svg>\n",
              "      </button>\n",
              "      \n",
              "  <style>\n",
              "    .colab-df-container {\n",
              "      display:flex;\n",
              "      flex-wrap:wrap;\n",
              "      gap: 12px;\n",
              "    }\n",
              "\n",
              "    .colab-df-convert {\n",
              "      background-color: #E8F0FE;\n",
              "      border: none;\n",
              "      border-radius: 50%;\n",
              "      cursor: pointer;\n",
              "      display: none;\n",
              "      fill: #1967D2;\n",
              "      height: 32px;\n",
              "      padding: 0 0 0 0;\n",
              "      width: 32px;\n",
              "    }\n",
              "\n",
              "    .colab-df-convert:hover {\n",
              "      background-color: #E2EBFA;\n",
              "      box-shadow: 0px 1px 2px rgba(60, 64, 67, 0.3), 0px 1px 3px 1px rgba(60, 64, 67, 0.15);\n",
              "      fill: #174EA6;\n",
              "    }\n",
              "\n",
              "    [theme=dark] .colab-df-convert {\n",
              "      background-color: #3B4455;\n",
              "      fill: #D2E3FC;\n",
              "    }\n",
              "\n",
              "    [theme=dark] .colab-df-convert:hover {\n",
              "      background-color: #434B5C;\n",
              "      box-shadow: 0px 1px 3px 1px rgba(0, 0, 0, 0.15);\n",
              "      filter: drop-shadow(0px 1px 2px rgba(0, 0, 0, 0.3));\n",
              "      fill: #FFFFFF;\n",
              "    }\n",
              "  </style>\n",
              "\n",
              "      <script>\n",
              "        const buttonEl =\n",
              "          document.querySelector('#df-dc3efe7c-0cfd-4438-a1df-683f820cca7c button.colab-df-convert');\n",
              "        buttonEl.style.display =\n",
              "          google.colab.kernel.accessAllowed ? 'block' : 'none';\n",
              "\n",
              "        async function convertToInteractive(key) {\n",
              "          const element = document.querySelector('#df-dc3efe7c-0cfd-4438-a1df-683f820cca7c');\n",
              "          const dataTable =\n",
              "            await google.colab.kernel.invokeFunction('convertToInteractive',\n",
              "                                                     [key], {});\n",
              "          if (!dataTable) return;\n",
              "\n",
              "          const docLinkHtml = 'Like what you see? Visit the ' +\n",
              "            '<a target=\"_blank\" href=https://colab.research.google.com/notebooks/data_table.ipynb>data table notebook</a>'\n",
              "            + ' to learn more about interactive tables.';\n",
              "          element.innerHTML = '';\n",
              "          dataTable['output_type'] = 'display_data';\n",
              "          await google.colab.output.renderOutput(dataTable, element);\n",
              "          const docLink = document.createElement('div');\n",
              "          docLink.innerHTML = docLinkHtml;\n",
              "          element.appendChild(docLink);\n",
              "        }\n",
              "      </script>\n",
              "    </div>\n",
              "  </div>\n",
              "  "
            ],
            "text/plain": [
              "                                              review sentiment\n",
              "0  Someone(or, something thing..)is leaving punct...  positive\n",
              "1  Beginning with the poster (featuring only Morg...  negative\n",
              "2  This movie is one of the most awful movies eve...  negative\n",
              "3  Generally political messages are done on telev...  negative\n",
              "4  I'm surprised at the comments from posters sta...  positive"
            ]
          },
          "metadata": {},
          "execution_count": 5
        }
      ]
    },
    {
      "cell_type": "code",
      "source": [
        "from wordcloud import WordCloud\n",
        "\n",
        "def plot_wordcloud(review, cmap):\n",
        "    fig, ax = plt.subplots(figsize=(8, 6))\n",
        "    wc = WordCloud(max_words = 1000, background_color ='white', stopwords = stopwords, \n",
        "                   min_font_size = 10, colormap=cmap)\n",
        "    wc = wc.generate(review)\n",
        "    plt.axis('off')\n",
        "    plt.imshow(wc)\n",
        "\n",
        "# word cloud on positve reviews\n",
        "pos_rev = ' '.join(reviews[reviews['sentiment']=='positive']['review'].to_list()[:10000])\n",
        "plot_wordcloud(pos_rev, 'Blues')"
      ],
      "metadata": {
        "colab": {
          "base_uri": "https://localhost:8080/",
          "height": 254
        },
        "id": "AmbBNAdaxyfv",
        "outputId": "2234146a-b8a9-4c2d-f23e-a50667ab69b3"
      },
      "execution_count": 6,
      "outputs": [
        {
          "output_type": "display_data",
          "data": {
            "image/png": "[encoded data removed]",
            "text/plain": [
              "<Figure size 576x432 with 1 Axes>"
            ]
          },
          "metadata": {
            "needs_background": "light"
          }
        }
      ]
    },
    {
      "cell_type": "code",
      "source": [
        "# word cloud on negative reviews\n",
        "neg_rev = ' '.join(reviews[reviews['sentiment']=='negative']['review'].to_list()[:10000])\n",
        "plot_wordcloud(neg_rev, 'Reds')"
      ],
      "metadata": {
        "colab": {
          "base_uri": "https://localhost:8080/",
          "height": 254
        },
        "id": "Em6L74SqwK5M",
        "outputId": "1caf1853-169d-4c2b-a29a-68f33fe7e4bb"
      },
      "execution_count": 7,
      "outputs": [
        {
          "output_type": "display_data",
          "data": {
            "image/png": "[encoded data removed]",
            "text/plain": [
              "<Figure size 576x432 with 1 Axes>"
            ]
          },
          "metadata": {
            "needs_background": "light"
          }
        }
      ]
    },
    {
      "cell_type": "code",
      "source": [
        "#Convert categorical data into numerical \n",
        "# 1 for \"positive\", 0 for \"negative\"\n",
        "le = LabelEncoder()\n",
        "label = le.fit_transform(reviews['sentiment'])\n",
        "reviews['label'] = label\n",
        "\n",
        "reviews = reviews.drop('sentiment', 1)\n",
        "reviews.head()"
      ],
      "metadata": {
        "id": "_Fc_S30JtTec",
        "colab": {
          "base_uri": "https://localhost:8080/",
          "height": 262
        },
        "outputId": "f637fb07-b048-4b6e-f5fc-cf7caea965dd"
      },
      "execution_count": 8,
      "outputs": [
        {
          "output_type": "stream",
          "name": "stderr",
          "text": [
            "/usr/local/lib/python3.7/dist-packages/ipykernel_launcher.py:7: FutureWarning: In a future version of pandas all arguments of DataFrame.drop except for the argument 'labels' will be keyword-only\n",
            "  import sys\n"
          ]
        },
        {
          "output_type": "execute_result",
          "data": {
            "text/html": [
              "\n",
              "  <div id=\"df-c71ae335-f794-4e4d-acba-63ce38aa19b1\">\n",
              "    <div class=\"colab-df-container\">\n",
              "      <div>\n",
              "<style scoped>\n",
              "    .dataframe tbody tr th:only-of-type {\n",
              "        vertical-align: middle;\n",
              "    }\n",
              "\n",
              "    .dataframe tbody tr th {\n",
              "        vertical-align: top;\n",
              "    }\n",
              "\n",
              "    .dataframe thead th {\n",
              "        text-align: right;\n",
              "    }\n",
              "</style>\n",
              "<table border=\"1\" class=\"dataframe\">\n",
              "  <thead>\n",
              "    <tr style=\"text-align: right;\">\n",
              "      <th></th>\n",
              "      <th>review</th>\n",
              "      <th>label</th>\n",
              "    </tr>\n",
              "  </thead>\n",
              "  <tbody>\n",
              "    <tr>\n",
              "      <th>0</th>\n",
              "      <td>Someone(or, something thing..)is leaving punct...</td>\n",
              "      <td>1</td>\n",
              "    </tr>\n",
              "    <tr>\n",
              "      <th>1</th>\n",
              "      <td>Beginning with the poster (featuring only Morg...</td>\n",
              "      <td>0</td>\n",
              "    </tr>\n",
              "    <tr>\n",
              "      <th>2</th>\n",
              "      <td>This movie is one of the most awful movies eve...</td>\n",
              "      <td>0</td>\n",
              "    </tr>\n",
              "    <tr>\n",
              "      <th>3</th>\n",
              "      <td>Generally political messages are done on telev...</td>\n",
              "      <td>0</td>\n",
              "    </tr>\n",
              "    <tr>\n",
              "      <th>4</th>\n",
              "      <td>I'm surprised at the comments from posters sta...</td>\n",
              "      <td>1</td>\n",
              "    </tr>\n",
              "  </tbody>\n",
              "</table>\n",
              "</div>\n",
              "      <button class=\"colab-df-convert\" onclick=\"convertToInteractive('df-c71ae335-f794-4e4d-acba-63ce38aa19b1')\"\n",
              "              title=\"Convert this dataframe to an interactive table.\"\n",
              "              style=\"display:none;\">\n",
              "        \n",
              "  <svg xmlns=\"http://www.w3.org/2000/svg\" height=\"24px\"viewBox=\"0 0 24 24\"\n",
              "       width=\"24px\">\n",
              "    <path d=\"M0 0h24v24H0V0z\" fill=\"none\"/>\n",
              "    <path d=\"M18.56 5.44l.94 2.06.94-2.06 2.06-.94-2.06-.94-.94-2.06-.94 2.06-2.06.94zm-11 1L8.5 8.5l.94-2.06 2.06-.94-2.06-.94L8.5 2.5l-.94 2.06-2.06.94zm10 10l.94 2.06.94-2.06 2.06-.94-2.06-.94-.94-2.06-.94 2.06-2.06.94z\"/><path d=\"M17.41 7.96l-1.37-1.37c-.4-.4-.92-.59-1.43-.59-.52 0-1.04.2-1.43.59L10.3 9.45l-7.72 7.72c-.78.78-.78 2.05 0 2.83L4 21.41c.39.39.9.59 1.41.59.51 0 1.02-.2 1.41-.59l7.78-7.78 2.81-2.81c.8-.78.8-2.07 0-2.86zM5.41 20L4 18.59l7.72-7.72 1.47 1.35L5.41 20z\"/>\n",
              "  </svg>\n",
              "      </button>\n",
              "      \n",
              "  <style>\n",
              "    .colab-df-container {\n",
              "      display:flex;\n",
              "      flex-wrap:wrap;\n",
              "      gap: 12px;\n",
              "    }\n",
              "\n",
              "    .colab-df-convert {\n",
              "      background-color: #E8F0FE;\n",
              "      border: none;\n",
              "      border-radius: 50%;\n",
              "      cursor: pointer;\n",
              "      display: none;\n",
              "      fill: #1967D2;\n",
              "      height: 32px;\n",
              "      padding: 0 0 0 0;\n",
              "      width: 32px;\n",
              "    }\n",
              "\n",
              "    .colab-df-convert:hover {\n",
              "      background-color: #E2EBFA;\n",
              "      box-shadow: 0px 1px 2px rgba(60, 64, 67, 0.3), 0px 1px 3px 1px rgba(60, 64, 67, 0.15);\n",
              "      fill: #174EA6;\n",
              "    }\n",
              "\n",
              "    [theme=dark] .colab-df-convert {\n",
              "      background-color: #3B4455;\n",
              "      fill: #D2E3FC;\n",
              "    }\n",
              "\n",
              "    [theme=dark] .colab-df-convert:hover {\n",
              "      background-color: #434B5C;\n",
              "      box-shadow: 0px 1px 3px 1px rgba(0, 0, 0, 0.15);\n",
              "      filter: drop-shadow(0px 1px 2px rgba(0, 0, 0, 0.3));\n",
              "      fill: #FFFFFF;\n",
              "    }\n",
              "  </style>\n",
              "\n",
              "      <script>\n",
              "        const buttonEl =\n",
              "          document.querySelector('#df-c71ae335-f794-4e4d-acba-63ce38aa19b1 button.colab-df-convert');\n",
              "        buttonEl.style.display =\n",
              "          google.colab.kernel.accessAllowed ? 'block' : 'none';\n",
              "\n",
              "        async function convertToInteractive(key) {\n",
              "          const element = document.querySelector('#df-c71ae335-f794-4e4d-acba-63ce38aa19b1');\n",
              "          const dataTable =\n",
              "            await google.colab.kernel.invokeFunction('convertToInteractive',\n",
              "                                                     [key], {});\n",
              "          if (!dataTable) return;\n",
              "\n",
              "          const docLinkHtml = 'Like what you see? Visit the ' +\n",
              "            '<a target=\"_blank\" href=https://colab.research.google.com/notebooks/data_table.ipynb>data table notebook</a>'\n",
              "            + ' to learn more about interactive tables.';\n",
              "          element.innerHTML = '';\n",
              "          dataTable['output_type'] = 'display_data';\n",
              "          await google.colab.output.renderOutput(dataTable, element);\n",
              "          const docLink = document.createElement('div');\n",
              "          docLink.innerHTML = docLinkHtml;\n",
              "          element.appendChild(docLink);\n",
              "        }\n",
              "      </script>\n",
              "    </div>\n",
              "  </div>\n",
              "  "
            ],
            "text/plain": [
              "                                              review  label\n",
              "0  Someone(or, something thing..)is leaving punct...      1\n",
              "1  Beginning with the poster (featuring only Morg...      0\n",
              "2  This movie is one of the most awful movies eve...      0\n",
              "3  Generally political messages are done on telev...      0\n",
              "4  I'm surprised at the comments from posters sta...      1"
            ]
          },
          "metadata": {},
          "execution_count": 8
        }
      ]
    },
    {
      "cell_type": "code",
      "source": [
        "#analysing labels\n",
        "print(reviews.groupby(['label']).size())\n",
        "\n",
        "dd = pd.Series(reviews['label']).value_counts()\n",
        "sns.barplot(x=np.array(['0','1']),y= dd.values)\n",
        "plt.show()"
      ],
      "metadata": {
        "id": "DzjrsabfxN6G",
        "colab": {
          "base_uri": "https://localhost:8080/",
          "height": 338
        },
        "outputId": "3169ec72-db36-4243-96d2-5aee7a054559"
      },
      "execution_count": 9,
      "outputs": [
        {
          "output_type": "stream",
          "name": "stdout",
          "text": [
            "label\n",
            "0    25000\n",
            "1    25000\n",
            "dtype: int64\n"
          ]
        },
        {
          "output_type": "display_data",
          "data": {
            "image/png": "[encoded data removed]",
            "text/plain": [
              "<Figure size 432x288 with 1 Axes>"
            ]
          },
          "metadata": {
            "needs_background": "light"
          }
        }
      ]
    },
    {
      "cell_type": "markdown",
      "source": [
        "**3. Processing**\n",
        "\n",
        "1. remove punctuation\n",
        "2. remove emoticons\n",
        "3. lowercasing\n",
        "4. remove stopwords\n",
        "5. Porter Stemmer"
      ],
      "metadata": {
        "id": "WFUa7T7tu1op"
      }
    },
    {
      "cell_type": "code",
      "execution_count": 10,
      "metadata": {
        "id": "v8lWzTT2rWzt"
      },
      "outputs": [],
      "source": [
        "#process data\n",
        "reviews['review'].fillna('')\n",
        "\n",
        "def preprocess_text(text):\n",
        "                \n",
        "        TAG_RE = re.compile(r'<[^>]+>_-@')\n",
        "        no_tags = TAG_RE.sub('',text) \n",
        "        text = re.sub('<[^>]*>_@-', '', no_tags)        \n",
        "        text = re.sub('_','',text) \n",
        "        emoticons = re.findall('(?::|;|=)(?:-)?(?:\\)|\\(|D|P)', text)\n",
        "        text = re.sub('[\\W]+', ' ', text.lower()) + \" \".join(emoticons).replace('-', '')\n",
        "        text = re.sub(r'\\d+', '', text)\n",
        "\n",
        "        return text\n",
        "\n",
        "def remove_stopwords(text):\n",
        "\n",
        "    text = nltk.word_tokenize(text)\n",
        "    text = [w for w in text if not w in stopwords]\n",
        "    text= ' '.join(text)\n",
        "      \n",
        "    return text\n",
        "\n",
        "\n",
        "stemming = PorterStemmer()\n",
        "def porterstemmer(text):\n",
        "    return \" \".join([stemming.stem(w) for w in text])\n"
      ]
    },
    {
      "cell_type": "code",
      "source": [
        "#process on data\n",
        "reviews['review']=reviews['review'].apply(preprocess_text)\n",
        "reviews['review']=reviews['review'].apply(remove_stopwords)\n",
        "#reviews['review']= reviews['review'].apply(porterstemmer).copy()\n",
        "\n",
        "reviews.head()"
      ],
      "metadata": {
        "id": "EWbJnfxSycKN",
        "colab": {
          "base_uri": "https://localhost:8080/",
          "height": 206
        },
        "outputId": "bebb0c10-5a03-4d0a-bb9c-afc8e6370f9e"
      },
      "execution_count": 11,
      "outputs": [
        {
          "output_type": "execute_result",
          "data": {
            "text/html": [
              "\n",
              "  <div id=\"df-1f13942d-b2ca-40b0-88d1-6c463e2f3203\">\n",
              "    <div class=\"colab-df-container\">\n",
              "      <div>\n",
              "<style scoped>\n",
              "    .dataframe tbody tr th:only-of-type {\n",
              "        vertical-align: middle;\n",
              "    }\n",
              "\n",
              "    .dataframe tbody tr th {\n",
              "        vertical-align: top;\n",
              "    }\n",
              "\n",
              "    .dataframe thead th {\n",
              "        text-align: right;\n",
              "    }\n",
              "</style>\n",
              "<table border=\"1\" class=\"dataframe\">\n",
              "  <thead>\n",
              "    <tr style=\"text-align: right;\">\n",
              "      <th></th>\n",
              "      <th>review</th>\n",
              "      <th>label</th>\n",
              "    </tr>\n",
              "  </thead>\n",
              "  <tbody>\n",
              "    <tr>\n",
              "      <th>0</th>\n",
              "      <td>someone something thing leaving puncture marks...</td>\n",
              "      <td>1</td>\n",
              "    </tr>\n",
              "    <tr>\n",
              "      <th>1</th>\n",
              "      <td>beginning poster featuring morgan freeman kevi...</td>\n",
              "      <td>0</td>\n",
              "    </tr>\n",
              "    <tr>\n",
              "      <th>2</th>\n",
              "      <td>movie one awful movies ever made jon bon jovi ...</td>\n",
              "      <td>0</td>\n",
              "    </tr>\n",
              "    <tr>\n",
              "      <th>3</th>\n",
              "      <td>generally political messages done television b...</td>\n",
              "      <td>0</td>\n",
              "    </tr>\n",
              "    <tr>\n",
              "      <th>4</th>\n",
              "      <td>surprised comments posters stating jane powell...</td>\n",
              "      <td>1</td>\n",
              "    </tr>\n",
              "  </tbody>\n",
              "</table>\n",
              "</div>\n",
              "      <button class=\"colab-df-convert\" onclick=\"convertToInteractive('df-1f13942d-b2ca-40b0-88d1-6c463e2f3203')\"\n",
              "              title=\"Convert this dataframe to an interactive table.\"\n",
              "              style=\"display:none;\">\n",
              "        \n",
              "  <svg xmlns=\"http://www.w3.org/2000/svg\" height=\"24px\"viewBox=\"0 0 24 24\"\n",
              "       width=\"24px\">\n",
              "    <path d=\"M0 0h24v24H0V0z\" fill=\"none\"/>\n",
              "    <path d=\"M18.56 5.44l.94 2.06.94-2.06 2.06-.94-2.06-.94-.94-2.06-.94 2.06-2.06.94zm-11 1L8.5 8.5l.94-2.06 2.06-.94-2.06-.94L8.5 2.5l-.94 2.06-2.06.94zm10 10l.94 2.06.94-2.06 2.06-.94-2.06-.94-.94-2.06-.94 2.06-2.06.94z\"/><path d=\"M17.41 7.96l-1.37-1.37c-.4-.4-.92-.59-1.43-.59-.52 0-1.04.2-1.43.59L10.3 9.45l-7.72 7.72c-.78.78-.78 2.05 0 2.83L4 21.41c.39.39.9.59 1.41.59.51 0 1.02-.2 1.41-.59l7.78-7.78 2.81-2.81c.8-.78.8-2.07 0-2.86zM5.41 20L4 18.59l7.72-7.72 1.47 1.35L5.41 20z\"/>\n",
              "  </svg>\n",
              "      </button>\n",
              "      \n",
              "  <style>\n",
              "    .colab-df-container {\n",
              "      display:flex;\n",
              "      flex-wrap:wrap;\n",
              "      gap: 12px;\n",
              "    }\n",
              "\n",
              "    .colab-df-convert {\n",
              "      background-color: #E8F0FE;\n",
              "      border: none;\n",
              "      border-radius: 50%;\n",
              "      cursor: pointer;\n",
              "      display: none;\n",
              "      fill: #1967D2;\n",
              "      height: 32px;\n",
              "      padding: 0 0 0 0;\n",
              "      width: 32px;\n",
              "    }\n",
              "\n",
              "    .colab-df-convert:hover {\n",
              "      background-color: #E2EBFA;\n",
              "      box-shadow: 0px 1px 2px rgba(60, 64, 67, 0.3), 0px 1px 3px 1px rgba(60, 64, 67, 0.15);\n",
              "      fill: #174EA6;\n",
              "    }\n",
              "\n",
              "    [theme=dark] .colab-df-convert {\n",
              "      background-color: #3B4455;\n",
              "      fill: #D2E3FC;\n",
              "    }\n",
              "\n",
              "    [theme=dark] .colab-df-convert:hover {\n",
              "      background-color: #434B5C;\n",
              "      box-shadow: 0px 1px 3px 1px rgba(0, 0, 0, 0.15);\n",
              "      filter: drop-shadow(0px 1px 2px rgba(0, 0, 0, 0.3));\n",
              "      fill: #FFFFFF;\n",
              "    }\n",
              "  </style>\n",
              "\n",
              "      <script>\n",
              "        const buttonEl =\n",
              "          document.querySelector('#df-1f13942d-b2ca-40b0-88d1-6c463e2f3203 button.colab-df-convert');\n",
              "        buttonEl.style.display =\n",
              "          google.colab.kernel.accessAllowed ? 'block' : 'none';\n",
              "\n",
              "        async function convertToInteractive(key) {\n",
              "          const element = document.querySelector('#df-1f13942d-b2ca-40b0-88d1-6c463e2f3203');\n",
              "          const dataTable =\n",
              "            await google.colab.kernel.invokeFunction('convertToInteractive',\n",
              "                                                     [key], {});\n",
              "          if (!dataTable) return;\n",
              "\n",
              "          const docLinkHtml = 'Like what you see? Visit the ' +\n",
              "            '<a target=\"_blank\" href=https://colab.research.google.com/notebooks/data_table.ipynb>data table notebook</a>'\n",
              "            + ' to learn more about interactive tables.';\n",
              "          element.innerHTML = '';\n",
              "          dataTable['output_type'] = 'display_data';\n",
              "          await google.colab.output.renderOutput(dataTable, element);\n",
              "          const docLink = document.createElement('div');\n",
              "          docLink.innerHTML = docLinkHtml;\n",
              "          element.appendChild(docLink);\n",
              "        }\n",
              "      </script>\n",
              "    </div>\n",
              "  </div>\n",
              "  "
            ],
            "text/plain": [
              "                                              review  label\n",
              "0  someone something thing leaving puncture marks...      1\n",
              "1  beginning poster featuring morgan freeman kevi...      0\n",
              "2  movie one awful movies ever made jon bon jovi ...      0\n",
              "3  generally political messages done television b...      0\n",
              "4  surprised comments posters stating jane powell...      1"
            ]
          },
          "metadata": {},
          "execution_count": 11
        }
      ]
    },
    {
      "cell_type": "code",
      "source": [
        "X = reviews['review']\n",
        "Y = reviews['label']\n",
        "\n",
        "# Split dataset to train and test set.\n",
        "X_train, X_test, Y_train, Y_test = train_test_split(X,Y,test_size=0.1, random_state = 1)\n",
        "\n",
        "# Split train dataset to train and validation set.\n",
        "X_train, X_val, Y_train, Y_val = train_test_split(X_train, Y_train, test_size=0.1, random_state = 1)\n",
        "\n",
        "print(\"X_train's shape:\", X_train.shape)\n",
        "print(\"Y_train's shape:\", Y_train.shape)\n",
        "print(\"X_val's shape:\", X_val.shape)\n",
        "print(\"Y_val's shape:\", Y_val.shape)\n",
        "print(\"X_test's shape:\", X_test.shape)\n",
        "print(\"Y_test's shape:\", Y_test.shape)"
      ],
      "metadata": {
        "id": "r_kbHFwjzhS3",
        "colab": {
          "base_uri": "https://localhost:8080/"
        },
        "outputId": "e909f3cb-9655-4758-ead7-eff0560b33e7"
      },
      "execution_count": 12,
      "outputs": [
        {
          "output_type": "stream",
          "name": "stdout",
          "text": [
            "X_train's shape: (40500,)\n",
            "Y_train's shape: (40500,)\n",
            "X_val's shape: (4500,)\n",
            "Y_val's shape: (4500,)\n",
            "X_test's shape: (5000,)\n",
            "Y_test's shape: (5000,)\n"
          ]
        }
      ]
    },
    {
      "cell_type": "code",
      "source": [
        "#concatenate reviews and labels into a dataframe\n",
        "df_train = pd.concat([X_train, Y_train], axis=1)\n",
        "print(df_train.shape)\n",
        "\n",
        "df_test = pd.concat([X_test, Y_test], axis=1)\n",
        "print(df_test.shape)\n",
        "\n",
        "df_valid = pd.concat([X_val, Y_val], axis=1)\n",
        "print(df_valid.shape)\n",
        "\n",
        "#save dataframes as \".csv\" files\n",
        "#os.mkdir('dataset')\n",
        "df_train.to_csv(\"./dataset/train.csv\", index=False)\n",
        "df_test.to_csv(\"./dataset/test.csv\", index=False)\n",
        "df_valid.to_csv(\"./dataset/valid.csv\", index=False)\n",
        "\n",
        "df_train.head()"
      ],
      "metadata": {
        "id": "n1rcZ6DM0ggG",
        "colab": {
          "base_uri": "https://localhost:8080/",
          "height": 261
        },
        "outputId": "d84d84e9-5948-4785-c643-299003b02d91"
      },
      "execution_count": 13,
      "outputs": [
        {
          "output_type": "stream",
          "name": "stdout",
          "text": [
            "(40500, 2)\n",
            "(5000, 2)\n",
            "(4500, 2)\n"
          ]
        },
        {
          "output_type": "execute_result",
          "data": {
            "text/html": [
              "\n",
              "  <div id=\"df-9f049f84-48f4-4189-9075-93d702c4cc5a\">\n",
              "    <div class=\"colab-df-container\">\n",
              "      <div>\n",
              "<style scoped>\n",
              "    .dataframe tbody tr th:only-of-type {\n",
              "        vertical-align: middle;\n",
              "    }\n",
              "\n",
              "    .dataframe tbody tr th {\n",
              "        vertical-align: top;\n",
              "    }\n",
              "\n",
              "    .dataframe thead th {\n",
              "        text-align: right;\n",
              "    }\n",
              "</style>\n",
              "<table border=\"1\" class=\"dataframe\">\n",
              "  <thead>\n",
              "    <tr style=\"text-align: right;\">\n",
              "      <th></th>\n",
              "      <th>review</th>\n",
              "      <th>label</th>\n",
              "    </tr>\n",
              "  </thead>\n",
              "  <tbody>\n",
              "    <tr>\n",
              "      <th>28031</th>\n",
              "      <td>movie amazing never laugh harder target think ...</td>\n",
              "      <td>1</td>\n",
              "    </tr>\n",
              "    <tr>\n",
              "      <th>20911</th>\n",
              "      <td>excellent little known movie tom selleck outst...</td>\n",
              "      <td>1</td>\n",
              "    </tr>\n",
              "    <tr>\n",
              "      <th>23209</th>\n",
              "      <td>child eighties like probably remember disney m...</td>\n",
              "      <td>1</td>\n",
              "    </tr>\n",
              "    <tr>\n",
              "      <th>47822</th>\n",
              "      <td>great addition anyone collection br br monkeys...</td>\n",
              "      <td>1</td>\n",
              "    </tr>\n",
              "    <tr>\n",
              "      <th>41184</th>\n",
              "      <td>movies oscar worthy let face sometimes types m...</td>\n",
              "      <td>1</td>\n",
              "    </tr>\n",
              "  </tbody>\n",
              "</table>\n",
              "</div>\n",
              "      <button class=\"colab-df-convert\" onclick=\"convertToInteractive('df-9f049f84-48f4-4189-9075-93d702c4cc5a')\"\n",
              "              title=\"Convert this dataframe to an interactive table.\"\n",
              "              style=\"display:none;\">\n",
              "        \n",
              "  <svg xmlns=\"http://www.w3.org/2000/svg\" height=\"24px\"viewBox=\"0 0 24 24\"\n",
              "       width=\"24px\">\n",
              "    <path d=\"M0 0h24v24H0V0z\" fill=\"none\"/>\n",
              "    <path d=\"M18.56 5.44l.94 2.06.94-2.06 2.06-.94-2.06-.94-.94-2.06-.94 2.06-2.06.94zm-11 1L8.5 8.5l.94-2.06 2.06-.94-2.06-.94L8.5 2.5l-.94 2.06-2.06.94zm10 10l.94 2.06.94-2.06 2.06-.94-2.06-.94-.94-2.06-.94 2.06-2.06.94z\"/><path d=\"M17.41 7.96l-1.37-1.37c-.4-.4-.92-.59-1.43-.59-.52 0-1.04.2-1.43.59L10.3 9.45l-7.72 7.72c-.78.78-.78 2.05 0 2.83L4 21.41c.39.39.9.59 1.41.59.51 0 1.02-.2 1.41-.59l7.78-7.78 2.81-2.81c.8-.78.8-2.07 0-2.86zM5.41 20L4 18.59l7.72-7.72 1.47 1.35L5.41 20z\"/>\n",
              "  </svg>\n",
              "      </button>\n",
              "      \n",
              "  <style>\n",
              "    .colab-df-container {\n",
              "      display:flex;\n",
              "      flex-wrap:wrap;\n",
              "      gap: 12px;\n",
              "    }\n",
              "\n",
              "    .colab-df-convert {\n",
              "      background-color: #E8F0FE;\n",
              "      border: none;\n",
              "      border-radius: 50%;\n",
              "      cursor: pointer;\n",
              "      display: none;\n",
              "      fill: #1967D2;\n",
              "      height: 32px;\n",
              "      padding: 0 0 0 0;\n",
              "      width: 32px;\n",
              "    }\n",
              "\n",
              "    .colab-df-convert:hover {\n",
              "      background-color: #E2EBFA;\n",
              "      box-shadow: 0px 1px 2px rgba(60, 64, 67, 0.3), 0px 1px 3px 1px rgba(60, 64, 67, 0.15);\n",
              "      fill: #174EA6;\n",
              "    }\n",
              "\n",
              "    [theme=dark] .colab-df-convert {\n",
              "      background-color: #3B4455;\n",
              "      fill: #D2E3FC;\n",
              "    }\n",
              "\n",
              "    [theme=dark] .colab-df-convert:hover {\n",
              "      background-color: #434B5C;\n",
              "      box-shadow: 0px 1px 3px 1px rgba(0, 0, 0, 0.15);\n",
              "      filter: drop-shadow(0px 1px 2px rgba(0, 0, 0, 0.3));\n",
              "      fill: #FFFFFF;\n",
              "    }\n",
              "  </style>\n",
              "\n",
              "      <script>\n",
              "        const buttonEl =\n",
              "          document.querySelector('#df-9f049f84-48f4-4189-9075-93d702c4cc5a button.colab-df-convert');\n",
              "        buttonEl.style.display =\n",
              "          google.colab.kernel.accessAllowed ? 'block' : 'none';\n",
              "\n",
              "        async function convertToInteractive(key) {\n",
              "          const element = document.querySelector('#df-9f049f84-48f4-4189-9075-93d702c4cc5a');\n",
              "          const dataTable =\n",
              "            await google.colab.kernel.invokeFunction('convertToInteractive',\n",
              "                                                     [key], {});\n",
              "          if (!dataTable) return;\n",
              "\n",
              "          const docLinkHtml = 'Like what you see? Visit the ' +\n",
              "            '<a target=\"_blank\" href=https://colab.research.google.com/notebooks/data_table.ipynb>data table notebook</a>'\n",
              "            + ' to learn more about interactive tables.';\n",
              "          element.innerHTML = '';\n",
              "          dataTable['output_type'] = 'display_data';\n",
              "          await google.colab.output.renderOutput(dataTable, element);\n",
              "          const docLink = document.createElement('div');\n",
              "          docLink.innerHTML = docLinkHtml;\n",
              "          element.appendChild(docLink);\n",
              "        }\n",
              "      </script>\n",
              "    </div>\n",
              "  </div>\n",
              "  "
            ],
            "text/plain": [
              "                                                  review  label\n",
              "28031  movie amazing never laugh harder target think ...      1\n",
              "20911  excellent little known movie tom selleck outst...      1\n",
              "23209  child eighties like probably remember disney m...      1\n",
              "47822  great addition anyone collection br br monkeys...      1\n",
              "41184  movies oscar worthy let face sometimes types m...      1"
            ]
          },
          "metadata": {},
          "execution_count": 13
        }
      ]
    },
    {
      "cell_type": "markdown",
      "source": [
        "**Use torchtext library for dataset and build vocab**\n",
        "\n",
        "> *Field* for preprocessing\n",
        "\n",
        "> *TabularDataset* for loading the train,validation and test data (csv file)\n",
        "\n",
        "> *BucketIterator* for batching and padding"
      ],
      "metadata": {
        "id": "lvgEgMij2KtD"
      }
    },
    {
      "cell_type": "code",
      "source": [
        "#calculate mean and maximum sequence length of train dataset\n",
        "\n",
        "reviews_list=[]\n",
        "for x in df_train['review']:\n",
        "  reviews_list.append(x)\n",
        "\n",
        "print(np.max([len(x) for x in reviews_list]))\n",
        "print(np.mean([len(x) for x in reviews_list]))\n",
        "#print(len(reviews_list[1]))"
      ],
      "metadata": {
        "id": "NYk4Vd3p38N9",
        "colab": {
          "base_uri": "https://localhost:8080/"
        },
        "outputId": "0ce3c78c-d4c6-4909-83e2-8d11db4d1750"
      },
      "execution_count": 14,
      "outputs": [
        {
          "output_type": "stream",
          "name": "stdout",
          "text": [
            "9222\n",
            "828.2459259259259\n"
          ]
        }
      ]
    },
    {
      "cell_type": "code",
      "source": [
        "TEXT = torchtext.legacy.data.Field(dtype=torch.long,sequential=True, tokenize=\"spacy\",batch_first=True)\n",
        "#Sequential= whether the datatype represents sequential data.\n",
        "#Batch_first=  Whether to produce tensors with the batch dimension first.\n",
        "LABEL = torchtext.legacy.data.LabelField(dtype=torch.long, sequential=False)"
      ],
      "metadata": {
        "id": "xuHvY_ls5U5k"
      },
      "execution_count": 15,
      "outputs": []
    },
    {
      "cell_type": "code",
      "source": [
        "train_data, valid_data, test_data = torchtext.legacy.data.TabularDataset.splits( \n",
        "    path=\"/content/dataset/\", \n",
        "    train=\"train.csv\", \n",
        "    validation=\"valid.csv\",\n",
        "    test= \"test.csv\", \n",
        "    format=\"csv\", \n",
        "    skip_header=True, \n",
        "    fields=[('text', TEXT), ('label', LABEL)])\n",
        "\n",
        "print(f'Number of training samples: {len(train_data)}')\n",
        "print(f'Number of validation samples: {len(valid_data)}')\n",
        "print(f'Number of test samples: {len(test_data)}')"
      ],
      "metadata": {
        "id": "GtrseZHNcxas",
        "colab": {
          "base_uri": "https://localhost:8080/"
        },
        "outputId": "01b29df4-bcd7-4786-84f4-1e7b4c151212"
      },
      "execution_count": 16,
      "outputs": [
        {
          "output_type": "stream",
          "name": "stdout",
          "text": [
            "Number of training samples: 40500\n",
            "Number of validation samples: 4500\n",
            "Number of test samples: 5000\n"
          ]
        }
      ]
    },
    {
      "cell_type": "code",
      "source": [
        "#build vocabulary\n",
        "TEXT.build_vocab(train_data, vectors='glove.6B.100d', min_freq=3, unk_init = torch.Tensor.normal_)\n",
        "LABEL.build_vocab(train_data)\n",
        "\n",
        "print(f\"Unique tokens in TEXT vocab: {len(TEXT.vocab)}\")\n",
        "print(f\"Unique tokens in LABEL vocab: {len(LABEL.vocab)}\")"
      ],
      "metadata": {
        "id": "tnR7SnYy7_5c",
        "colab": {
          "base_uri": "https://localhost:8080/"
        },
        "outputId": "443de090-6d56-4939-c879-f61db2cb30d8"
      },
      "execution_count": 17,
      "outputs": [
        {
          "output_type": "stream",
          "name": "stdout",
          "text": [
            "Unique tokens in TEXT vocab: 46262\n",
            "Unique tokens in LABEL vocab: 2\n"
          ]
        }
      ]
    },
    {
      "cell_type": "code",
      "source": [
        "BATCH_SIZE = 64\n",
        "\n",
        "#Defines an iterator that batches examples of similar lengths together.\n",
        "# Sort key= sorting examples in order to batch together examples with similar lengths and minimize padding. \n",
        "train_iterator, valid_iterator, test_iterator = torchtext.legacy.data.BucketIterator.splits(\n",
        "    (train_data, valid_data, test_data), \n",
        "      sort_key=lambda x: len(x.text),\n",
        "      batch_size=BATCH_SIZE,\n",
        "      shuffle=True,\n",
        "      device=device)\n",
        "\n",
        "# Print number of batches per dataset.\n",
        "print('Created `train_iterator` with %d batches!'%len(train_iterator))\n",
        "print('Created `valid_iterator` with %d batches!'%len(valid_iterator))\n",
        "print('Created `test_iterator` with %d batches!'%len(test_iterator))"
      ],
      "metadata": {
        "id": "wXsdKuD66f1F",
        "colab": {
          "base_uri": "https://localhost:8080/"
        },
        "outputId": "d50d1603-95ba-4998-f646-462236ed5cb3"
      },
      "execution_count": 18,
      "outputs": [
        {
          "output_type": "stream",
          "name": "stdout",
          "text": [
            "Created `train_iterator` with 633 batches!\n",
            "Created `valid_iterator` with 71 batches!\n",
            "Created `test_iterator` with 79 batches!\n"
          ]
        }
      ]
    },
    {
      "cell_type": "code",
      "source": [
        "word_embeddings = TEXT.vocab.vectors\n",
        "#print(word_embeddings[2])\n",
        "print(LABEL.vocab.stoi)"
      ],
      "metadata": {
        "id": "0mnQz8ghmwPU",
        "colab": {
          "base_uri": "https://localhost:8080/"
        },
        "outputId": "882294b1-b45b-4c32-bcec-504ee598c73b"
      },
      "execution_count": 19,
      "outputs": [
        {
          "output_type": "stream",
          "name": "stdout",
          "text": [
            "defaultdict(None, {'0': 0, '1': 1})\n"
          ]
        }
      ]
    },
    {
      "cell_type": "markdown",
      "source": [
        "2. THE CNN MODEL"
      ],
      "metadata": {
        "id": "8oJW5yo8Iwd_"
      }
    },
    {
      "cell_type": "code",
      "source": [
        "class CNN(nn.Module):\n",
        "    def __init__(self, vocab_size, embedding_dim, n_filters, filter_sizes, output_dim, \n",
        "                 dropout, pretrained_embedding, freeze_embedding):\n",
        "        \n",
        "        super().__init__()\n",
        "                \n",
        "        if pretrained_embedding is not None:\n",
        "            self.vocab_size, self.embed_dim = pretrained_embedding.shape\n",
        "            self.embedding = nn.Embedding.from_pretrained(pretrained_embedding,\n",
        "                                                          freeze=freeze_embedding)\n",
        "        else:\n",
        "            self.embed_dim = embedding_dim\n",
        "            self.embedding = nn.Embedding(num_embeddings=vocab_size,\n",
        "                                          embedding_dim=self.embed_dim,\n",
        "                                          padding_idx=0,\n",
        "                                          max_norm=5.0)\n",
        "        \n",
        "        self.convs = nn.ModuleList([\n",
        "                                    nn.Conv2d(in_channels = 1, \n",
        "                                              out_channels = n_filters, \n",
        "                                              kernel_size = (fs, embedding_dim)) \n",
        "                                    for fs in filter_sizes\n",
        "                                    ])\n",
        "        \n",
        "        self.fc = nn.Linear(len(filter_sizes) * n_filters, output_dim)\n",
        "        \n",
        "        self.dropout = nn.Dropout(dropout)\n",
        "        \n",
        "    def forward(self, text):\n",
        "                        \n",
        "        embedded = self.embedding(text)\n",
        "        embedded = embedded.unsqueeze(1)\n",
        "        \n",
        "        conved = [F.relu(conv(embedded)).squeeze(3) for conv in self.convs]\n",
        "        pooled = [F.max_pool1d(conv, conv.shape[2]).squeeze(2) for conv in conved]\n",
        "        \n",
        "        cat = self.dropout(torch.cat(pooled, dim = 1))\n",
        "            \n",
        "        return self.fc(cat)"
      ],
      "metadata": {
        "id": "heXhMIroIehO"
      },
      "execution_count": 20,
      "outputs": []
    },
    {
      "cell_type": "code",
      "source": [
        "#hyperparameters\n",
        "INPUT_DIM = len(TEXT.vocab)\n",
        "EMBEDDING_DIM = 100\n",
        "N_FILTERS = 10\n",
        "FILTER_SIZE = [2,3,4]\n",
        "OUTPUT_DIM = 1\n",
        "DROPOUT =0.5\n",
        "learning_rate =0.001\n",
        "\n",
        "#define model\n",
        "#net = CNN(INPUT_DIM, EMBEDDING_DIM, N_FILTERS, FILTER_SIZE, OUTPUT_DIM, DROPOUT, pretrained_embedding= None, freeze_embedding=True)\n",
        "net = CNN(INPUT_DIM, EMBEDDING_DIM, N_FILTERS, FILTER_SIZE, OUTPUT_DIM, DROPOUT, pretrained_embedding= word_embeddings, freeze_embedding=False)\n",
        "\n",
        "# Initialization of optimizer and loss function\n",
        "optimizer = optim.Adam(net.parameters(), lr =learning_rate)\n",
        "criterion = nn.BCEWithLogitsLoss()\n",
        "net.to(device)"
      ],
      "metadata": {
        "id": "G10q7ekgOE4y",
        "colab": {
          "base_uri": "https://localhost:8080/"
        },
        "outputId": "0271c678-f0b5-4973-ed82-d97e6d2d4218"
      },
      "execution_count": 21,
      "outputs": [
        {
          "output_type": "execute_result",
          "data": {
            "text/plain": [
              "CNN(\n",
              "  (embedding): Embedding(46262, 100)\n",
              "  (convs): ModuleList(\n",
              "    (0): Conv2d(1, 10, kernel_size=(2, 100), stride=(1, 1))\n",
              "    (1): Conv2d(1, 10, kernel_size=(3, 100), stride=(1, 1))\n",
              "    (2): Conv2d(1, 10, kernel_size=(4, 100), stride=(1, 1))\n",
              "  )\n",
              "  (fc): Linear(in_features=30, out_features=1, bias=True)\n",
              "  (dropout): Dropout(p=0.5, inplace=False)\n",
              ")"
            ]
          },
          "metadata": {},
          "execution_count": 21
        }
      ]
    },
    {
      "cell_type": "code",
      "source": [
        "def binary_accuracy(preds, y):\n",
        "\n",
        "    rounded_preds = torch.round(torch.sigmoid(preds))\n",
        "    correct = (rounded_preds == y).float() \n",
        "    acc = correct.sum() / len(correct)\n",
        "    return acc"
      ],
      "metadata": {
        "id": "0RCPH1lzOYZO"
      },
      "execution_count": 22,
      "outputs": []
    },
    {
      "cell_type": "code",
      "source": [
        "def model_train(model, iterator, optimizer, criterion):\n",
        "    \n",
        "    epoch_loss = 0\n",
        "    epoch_acc = 0\n",
        "    \n",
        "    model.train()\n",
        "    \n",
        "    for batch in iterator:\n",
        "        \n",
        "        optimizer.zero_grad()\n",
        "        \n",
        "        predictions = model(batch.text).squeeze(1)\n",
        "        #predictions = torch.round(torch.sigmoid(predictions))\n",
        "        \n",
        "        #print(predictions)\n",
        "        loss = criterion(predictions, batch.label.float())\n",
        "        \n",
        "        acc = binary_accuracy(predictions, batch.label)\n",
        "        \n",
        "        loss.backward()\n",
        "        \n",
        "        optimizer.step()\n",
        "        \n",
        "        epoch_loss += loss.item()\n",
        "        epoch_acc += acc.item()\n",
        "        \n",
        "    return epoch_loss / len(iterator), epoch_acc / len(iterator)"
      ],
      "metadata": {
        "id": "jVOhKIa7S-Bf"
      },
      "execution_count": 23,
      "outputs": []
    },
    {
      "cell_type": "code",
      "source": [
        "def model_eval(model, iterator, criterion):\n",
        "    \n",
        "    epoch_loss = 0\n",
        "    epoch_acc = 0\n",
        "    predictions_list = []\n",
        "    labels = []\n",
        "    \n",
        "    model.eval()\n",
        "    \n",
        "    with torch.no_grad():\n",
        "    \n",
        "        for batch in iterator:\n",
        "\n",
        "            predictions = model(batch.text).squeeze(1)\n",
        "            predictions_list.append(predictions)\n",
        "            \n",
        "            loss = criterion(predictions, batch.label.float())\n",
        "            \n",
        "            acc = binary_accuracy(predictions, batch.label)\n",
        "            labels.append(batch.label)\n",
        "\n",
        "            epoch_loss += loss.item()\n",
        "            epoch_acc += acc.item()\n",
        "       \n",
        "    return epoch_loss / len(iterator), epoch_acc / len(iterator)"
      ],
      "metadata": {
        "id": "DtmeA4ClUTMP"
      },
      "execution_count": 24,
      "outputs": []
    },
    {
      "cell_type": "markdown",
      "source": [
        "**Train and evaluate model**"
      ],
      "metadata": {
        "id": "TvvBl1nxZ1Al"
      }
    },
    {
      "cell_type": "code",
      "source": [
        "train_losses = []\n",
        "val_losses = []\n",
        "train_accs = []\n",
        "val_accs = []\n",
        "num_epochs= 5\n",
        "epoch=0\n",
        "\n",
        "for epoch in range(num_epochs):\n",
        "  \n",
        "  train_loss, train_acc = model_train(net, train_iterator, optimizer, criterion)\n",
        "  valid_loss, valid_acc = model_eval(net, valid_iterator, criterion)\n",
        "  epoch +=1\n",
        "  \n",
        "  torch.save(net.state_dict(), 'tut4-model.pt')\n",
        "  \n",
        "  train_losses.append(train_loss)\n",
        "  val_losses.append(valid_loss)\n",
        "  train_accs.append(train_acc)\n",
        "  val_accs.append(valid_acc)\n",
        "  \n",
        "  print(f'EPOCH {epoch}: Train Loss: {train_loss:.3f} | Train Acc: {train_acc:.3f} | Val. Loss: {valid_loss:.3f} | Validation Acc: {valid_acc:.3f} ')"
      ],
      "metadata": {
        "colab": {
          "base_uri": "https://localhost:8080/"
        },
        "id": "rjajrh_yUos_",
        "outputId": "2026e567-9f8d-4fae-dd15-4d9b8b27b445"
      },
      "execution_count": 25,
      "outputs": [
        {
          "output_type": "stream",
          "name": "stdout",
          "text": [
            "EPOCH 1: Train Loss: 0.518 | Train Acc: 0.739 | Val. Loss: 0.371 | Validation Acc: 0.844 \n",
            "EPOCH 2: Train Loss: 0.371 | Train Acc: 0.844 | Val. Loss: 0.323 | Validation Acc: 0.869 \n",
            "EPOCH 3: Train Loss: 0.301 | Train Acc: 0.879 | Val. Loss: 0.296 | Validation Acc: 0.876 \n",
            "EPOCH 4: Train Loss: 0.242 | Train Acc: 0.909 | Val. Loss: 0.298 | Validation Acc: 0.877 \n",
            "EPOCH 5: Train Loss: 0.196 | Train Acc: 0.929 | Val. Loss: 0.309 | Validation Acc: 0.879 \n"
          ]
        }
      ]
    },
    {
      "cell_type": "code",
      "source": [
        "plt.plot(train_losses)\n",
        "plt.plot(val_losses)\n",
        "plt.xlabel('epoch')\n",
        "plt.ylabel('Loss')\n",
        "plt.legend(['Train','Valid'])\n",
        "plt.title('Train vs Valid Loss')\n",
        " \n",
        "plt.show()"
      ],
      "metadata": {
        "colab": {
          "base_uri": "https://localhost:8080/",
          "height": 295
        },
        "id": "W0mw_psCt0mb",
        "outputId": "afbe6dce-a5e4-497b-fc7c-ed4cba9b93e1"
      },
      "execution_count": 26,
      "outputs": [
        {
          "output_type": "display_data",
          "data": {
            "image/png": "[encoded data removed]",
            "text/plain": [
              "<Figure size 432x288 with 1 Axes>"
            ]
          },
          "metadata": {
            "needs_background": "light"
          }
        }
      ]
    },
    {
      "cell_type": "code",
      "source": [
        "plt.plot(train_accs)\n",
        "plt.plot(val_accs)\n",
        "plt.xlabel('epoch')\n",
        "plt.ylabel('Accuracy')\n",
        "plt.legend(['Train','Valid'])\n",
        "plt.title('Train vs Valid Accuracy')\n",
        " \n",
        "plt.show()"
      ],
      "metadata": {
        "colab": {
          "base_uri": "https://localhost:8080/",
          "height": 295
        },
        "id": "LYxhpwS8t1TO",
        "outputId": "7cd7a023-e2f3-45e4-ce4a-c0ac9cb99108"
      },
      "execution_count": 27,
      "outputs": [
        {
          "output_type": "display_data",
          "data": {
            "image/png": "[encoded data removed]",
            "text/plain": [
              "<Figure size 432x288 with 1 Axes>"
            ]
          },
          "metadata": {
            "needs_background": "light"
          }
        }
      ]
    },
    {
      "cell_type": "markdown",
      "source": [
        "**Predictions on test set**\n",
        "\n",
        "1. confusion matrix\n",
        "2. classification report"
      ],
      "metadata": {
        "id": "YoWQQuyyaBBf"
      }
    },
    {
      "cell_type": "code",
      "source": [
        "def prediction(model, iterator):\n",
        "    epoch_loss = 0\n",
        "    epoch_acc = 0\n",
        "    predictions_list = []\n",
        "    labels = []\n",
        " \n",
        "    model.eval()  \n",
        "    with torch.no_grad():\n",
        "        for batch in iterator:\n",
        "              predictions = model(batch.text).squeeze(1)\n",
        "              #print(predictions)\n",
        "                            \n",
        "              acc = binary_accuracy(predictions, batch.label)\n",
        "              predictions = torch.round(torch.sigmoid(predictions))\n",
        "              predictions_list.append(predictions)\n",
        "              labels.append(batch.label)\n",
        "\n",
        "              epoch_acc += acc.item()   \n",
        "    \n",
        "    return epoch_acc / len(iterator), predictions_list, labels"
      ],
      "metadata": {
        "id": "8uj7ApzJmYis"
      },
      "execution_count": 28,
      "outputs": []
    },
    {
      "cell_type": "code",
      "source": [
        "acc, predictions_list, labels = prediction(net, test_iterator)\n",
        "print(\"Acc for test set:\", acc*100,\"%\")"
      ],
      "metadata": {
        "colab": {
          "base_uri": "https://localhost:8080/"
        },
        "id": "xDfSfT1W7Ulx",
        "outputId": "025549a6-c526-4c04-bbb2-78e7eaed6bde"
      },
      "execution_count": 29,
      "outputs": [
        {
          "output_type": "stream",
          "name": "stdout",
          "text": [
            "Acc for test set: 86.51107594936708 %\n"
          ]
        }
      ]
    },
    {
      "cell_type": "code",
      "source": [
        "#plot classification report \n",
        "actual=[]\n",
        "preds = []\n",
        "for i in predictions_list:\n",
        "   for m in i:\n",
        "      preds.append(m.float().cpu().detach().numpy())\n",
        "for i in labels:\n",
        "  for m in i:\n",
        "    actual.append(m.float().cpu().detach().numpy())\n",
        "\n",
        "class_report = classification_report(actual, preds)\n",
        "print(class_report)\n"
      ],
      "metadata": {
        "colab": {
          "base_uri": "https://localhost:8080/"
        },
        "id": "oG0N7yLh65SC",
        "outputId": "d9313917-f1bd-4eb8-cf77-fa89ba2b2185"
      },
      "execution_count": 30,
      "outputs": [
        {
          "output_type": "stream",
          "name": "stdout",
          "text": [
            "              precision    recall  f1-score   support\n",
            "\n",
            "         0.0       0.87      0.85      0.86      2478\n",
            "         1.0       0.86      0.88      0.87      2522\n",
            "\n",
            "    accuracy                           0.87      5000\n",
            "   macro avg       0.87      0.87      0.87      5000\n",
            "weighted avg       0.87      0.87      0.87      5000\n",
            "\n"
          ]
        }
      ]
    },
    {
      "cell_type": "code",
      "source": [
        "#plot confusion matrix\n",
        "\n",
        "conf_matrix = confusion_matrix(actual, preds)\n",
        "group_names = ['True Neg','False Pos','False Neg','True Pos']\n",
        "\n",
        "group_counts = [\"{0:0.0f}\".format(value) for value in\n",
        "                conf_matrix.flatten()]\n",
        "\n",
        "\n",
        "labels = [f\"{v1}\\n{v2}\" for v1, v2 in\n",
        "          zip(group_names,group_counts)]\n",
        "\n",
        "labels = np.asarray(labels).reshape(2,2)\n",
        "\n",
        "ax = sns.heatmap(conf_matrix, annot=labels, fmt='', cmap='Blues')\n",
        "\n",
        "ax.set_title('Confusion Matrix with labels for IMDB test set\\n\\n');\n",
        "ax.set_xlabel('\\nPredicted Values')\n",
        "ax.set_ylabel('Actual Values ');\n",
        "\n",
        "## Ticket labels - List must be in alphabetical order\n",
        "ax.xaxis.set_ticklabels(['False','True'])\n",
        "ax.yaxis.set_ticklabels(['False','True'])\n",
        "\n",
        "## Display the visualization of the Confusion Matrix.\n",
        "plt.show()"
      ],
      "metadata": {
        "colab": {
          "base_uri": "https://localhost:8080/",
          "height": 337
        },
        "id": "Y2lA9PU0wGBJ",
        "outputId": "f9c7a854-79ed-44f6-9adb-f59f0ad7b362"
      },
      "execution_count": 31,
      "outputs": [
        {
          "output_type": "display_data",
          "data": {
            "image/png": "[encoded data removed]",
            "text/plain": [
              "<Figure size 432x288 with 2 Axes>"
            ]
          },
          "metadata": {
            "needs_background": "light"
          }
        }
      ]
    }
  ]
}